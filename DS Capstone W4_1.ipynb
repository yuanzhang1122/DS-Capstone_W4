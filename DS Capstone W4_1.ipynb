{
    "nbformat_minor": 1, 
    "cells": [
        {
            "source": "## Segmenting and Clustering Neighborhoods in Fredericton, NB\n## Coursera_Applied Data Science Capstone_W4_1\n", 
            "cell_type": "markdown", 
            "metadata": {
                "collapsed": true
            }
        }, 
        {
            "source": "### Introduction/Business Problem", 
            "cell_type": "markdown", 
            "metadata": {}
        }, 
        {
            "source": "Fredericton is the Capital City of the only Canadian bilingual Province of New Brunswick and is located on the banks of the Saint John River. While one of the least populated provincial capital cities with a population base of less than 60 thousand residents, it offers a wide spectrum of venues and is a governement, university and cultural hub.\n\nAs the city grows and develops, it becomes increasingly important to examine and understand it quantitiatively. The City of Fredericton provides open data for everyone and encourages entrepreneurial use to develop services for the benefit of its ciitzens.\n\nDevelopers, policy makers and/or city planners have an interest in answering the following questions:\n\n    What neighbourhoods have the highest crime?\n    Is population density correlated to crime level?\n    Using Foursquare data, what venues are most common in different locations within the city?\n    Does the Knowledge Park really need a coffee shop?\n", 
            "cell_type": "markdown", 
            "metadata": {}
        }, 
        {
            "source": "### Data", 
            "cell_type": "markdown", 
            "metadata": {}
        }, 
        {
            "source": "To understand and explore we will need the following City of Fredericton Open Data:\n\n   Open Data Site: <http://data-fredericton.opendata.arcgis.com/>\n   Fredericton Neighbourhoods: <http://data-fredericton.opendata.arcgis.com/datasets/neighbourhoods--quartiers>\n   Fredericton Crime by Neighbourhood: <http://data-fredericton.opendata.arcgis.com/datasets/crime-by-neighbourhood-2017--crime-par-quartier-2017>\n   Fredericton Census Tract Demographics: <http://data-fredericton.opendata.arcgis.com/datasets/census-tract-demographics--donn%C3%A9es-d%C3%A9mographiques-du-secteur-de-recensement>\n   Fredericton locations of interest: <https://github.com/JasonLUrquhart/Applied-Data-Science-Capstone/blob/master/Fredericton%20Locations.xlsx>\n   Foursquare Developers Access to venue data: <https://foursquare.com/>\n\nUsing this data will allow exploration and examination to answer the questions. The neighbourhood data will enable us to properly group crime by neighbourhood. The Census data will enable us to then compare the population density to examine if areas of highest crime are also most densely populated. Fredericton locations of interest will then allow us to cluster and quantitatively understand the venues most common to that location.", 
            "cell_type": "markdown", 
            "metadata": {}
        }, 
        {
            "execution_count": null, 
            "cell_type": "code", 
            "metadata": {}, 
            "outputs": [], 
            "source": ""
        }
    ], 
    "metadata": {
        "kernelspec": {
            "display_name": "Python 3.6", 
            "name": "python3", 
            "language": "python"
        }, 
        "language_info": {
            "mimetype": "text/x-python", 
            "nbconvert_exporter": "python", 
            "version": "3.6.8", 
            "name": "python", 
            "file_extension": ".py", 
            "pygments_lexer": "ipython3", 
            "codemirror_mode": {
                "version": 3, 
                "name": "ipython"
            }
        }
    }, 
    "nbformat": 4
}